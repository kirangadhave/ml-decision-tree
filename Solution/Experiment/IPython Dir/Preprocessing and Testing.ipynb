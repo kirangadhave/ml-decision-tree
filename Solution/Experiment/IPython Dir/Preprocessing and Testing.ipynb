{
 "cells": [
  {
   "cell_type": "code",
   "execution_count": 139,
   "metadata": {
    "collapsed": true
   },
   "outputs": [],
   "source": [
    "import os\n",
    "import numpy as np\n",
    "import pandas as pd\n",
    "import matplotlib.pyplot as plt\n",
    "import math\n",
    "from itertools import groupby"
   ]
  },
  {
   "cell_type": "code",
   "execution_count": 22,
   "metadata": {},
   "outputs": [
    {
     "name": "stdout",
     "output_type": "stream",
     "text": [
      "/home/kbg/Graduate School/Machine Learning/homework-1-decision-trees/Solution/Experiment/Dataset/updated_train.txt\n"
     ]
    }
   ],
   "source": [
    "data_dir = os.path.dirname(os.getcwd())\n",
    "print(data_dir + \"/Dataset/updated_train.txt\")"
   ]
  },
  {
   "cell_type": "code",
   "execution_count": 177,
   "metadata": {
    "scrolled": true
   },
   "outputs": [
    {
     "name": "stdout",
     "output_type": "stream",
     "text": [
      "First 5 entries\n",
      "   0                   1\n",
      "0  +  Guy L. Steele  Jr.\n",
      "1  +            Bert Bos\n",
      "2  -   Alexander Dewdney\n",
      "3  -    Philip Emeagwali\n",
      "4  +        Larry Tesler\n",
      "Last 5 entries\n",
      "     0                 1\n",
      "440  +      Robert Floyd\n",
      "441  -  John C. Reynolds\n",
      "442  -    Joseph F Traub\n",
      "443  -        Cliff Shaw\n",
      "444  -     Scott Fahlman\n"
     ]
    }
   ],
   "source": [
    "data = pd.read_csv(data_dir +  \"/Dataset/updated_train.txt\", header=None)\n",
    "print(\"First 5 entries\")\n",
    "print(data.head())\n",
    "print(\"Last 5 entries\")\n",
    "print(data.tail())\n",
    "# Represents the names\n",
    "X = data.iloc[:,1]\n",
    "\n",
    "# Represents the badges\n",
    "Y = data.iloc[:,0]\n",
    "\n",
    "def map_bool(x):\n",
    "    return int(x == '+')\n",
    "Y_bool = np.vectorize(map_bool)(Y)\n"
   ]
  },
  {
   "cell_type": "code",
   "execution_count": 215,
   "metadata": {},
   "outputs": [
    {
     "name": "stdout",
     "output_type": "stream",
     "text": [
      "{0, 1, 2}\n"
     ]
    }
   ],
   "source": [
    "# Decision Tree Measure Functions\n",
    "def entropy(list):\n",
    "    label_count = [np.count_nonzero(list == x) for x in set(list)]\n",
    "    ent = 0\n",
    "    for x in label_count:\n",
    "        ent = ent -(x/sum(label_count))*math.log(x/sum(label_count),2)\n",
    "    print(ent)\n",
    "    return ent\n",
    "\n",
    "\n",
    "\n",
    "\n",
    "\n",
    "\n",
    "def info_gain_attr(list, S_list):\n",
    "    print(set(list[:,0]))\n",
    "    attr_lists = [x for i,j in groupby(list[:,1])]\n",
    "    \n",
    "info_gain_attr(np.column_stack(([0,1,2,1,1,0,1,2,2,1], [0,1,0,1,1,1,0,1,1,1])), [0,1,0,1,1,1,0,1,1,1])\n"
   ]
  },
  {
   "cell_type": "code",
   "execution_count": 99,
   "metadata": {
    "collapsed": true
   },
   "outputs": [],
   "source": [
    "# First Name Longer than last name feature\n",
    "X_flln = X\n",
    "\n",
    "def flln(x):\n",
    "    return int(x.split(\" \")[0] >= x.split(\" \")[-1])\n",
    "\n",
    "X_flln = np.vectorize(flln)(X_flln) \n"
   ]
  }
 ],
 "metadata": {
  "kernelspec": {
   "display_name": "Python 3",
   "language": "python",
   "name": "python3"
  },
  "language_info": {
   "codemirror_mode": {
    "name": "ipython",
    "version": 3
   },
   "file_extension": ".py",
   "mimetype": "text/x-python",
   "name": "python",
   "nbconvert_exporter": "python",
   "pygments_lexer": "ipython3",
   "version": "3.6.1"
  }
 },
 "nbformat": 4,
 "nbformat_minor": 2
}
