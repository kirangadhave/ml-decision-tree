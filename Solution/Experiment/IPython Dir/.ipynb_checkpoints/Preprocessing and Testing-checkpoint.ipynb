{
 "cells": [
  {
   "cell_type": "code",
   "execution_count": 10,
   "metadata": {
    "collapsed": true
   },
   "outputs": [],
   "source": [
    "import os\n",
    "import numpy as np\n",
    "import pandas as pd\n",
    "import matplotlib.pyplot as plt"
   ]
  },
  {
   "cell_type": "code",
   "execution_count": 22,
   "metadata": {},
   "outputs": [
    {
     "name": "stdout",
     "output_type": "stream",
     "text": [
      "/home/kbg/Graduate School/Machine Learning/homework-1-decision-trees/Solution/Experiment/Dataset/updated_train.txt\n"
     ]
    }
   ],
   "source": [
    "data_dir = os.path.dirname(os.getcwd())\n",
    "print(data_dir + \"/Dataset/updated_train.txt\")"
   ]
  },
  {
   "cell_type": "code",
   "execution_count": 43,
   "metadata": {},
   "outputs": [
    {
     "name": "stdout",
     "output_type": "stream",
     "text": [
      "First 5 entries\n",
      "   0                   1\n",
      "0  +  Guy L. Steele  Jr.\n",
      "1  +            Bert Bos\n",
      "2  -   Alexander Dewdney\n",
      "3  -    Philip Emeagwali\n",
      "4  +        Larry Tesler\n",
      "Last 5 entries\n",
      "     0                 1\n",
      "440  +      Robert Floyd\n",
      "441  -  John C. Reynolds\n",
      "442  -    Joseph F Traub\n",
      "443  -        Cliff Shaw\n",
      "444  -     Scott Fahlman\n"
     ]
    }
   ],
   "source": [
    "data = pd.read_csv(data_dir +  \"/Dataset/updated_train.txt\", header=None)\n",
    "print(\"First 5 entries\")\n",
    "print(data.head())\n",
    "print(\"Last 5 entries\")\n",
    "print(data.tail())"
   ]
  },
  {
   "cell_type": "code",
   "execution_count": null,
   "metadata": {
    "collapsed": true
   },
   "outputs": [],
   "source": [
    "# First Name Longer than last name feature"
   ]
  }
 ],
 "metadata": {
  "kernelspec": {
   "display_name": "Python 3",
   "language": "python",
   "name": "python3"
  },
  "language_info": {
   "codemirror_mode": {
    "name": "ipython",
    "version": 3
   },
   "file_extension": ".py",
   "mimetype": "text/x-python",
   "name": "python",
   "nbconvert_exporter": "python",
   "pygments_lexer": "ipython3",
   "version": "3.6.1"
  }
 },
 "nbformat": 4,
 "nbformat_minor": 2
}
